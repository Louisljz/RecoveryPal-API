{
 "cells": [
  {
   "cell_type": "code",
   "execution_count": 1,
   "metadata": {},
   "outputs": [
    {
     "name": "stderr",
     "output_type": "stream",
     "text": [
      "c:\\python-envs\\api-dev\\Lib\\site-packages\\pinecone\\index.py:4: TqdmWarning: IProgress not found. Please update jupyter and ipywidgets. See https://ipywidgets.readthedocs.io/en/stable/user_install.html\n",
      "  from tqdm.autonotebook import tqdm\n"
     ]
    },
    {
     "data": {
      "text/plain": [
       "True"
      ]
     },
     "execution_count": 1,
     "metadata": {},
     "output_type": "execute_result"
    }
   ],
   "source": [
    "from langchain_community.document_loaders import CSVLoader\n",
    "from langchain_community.llms import Clarifai\n",
    "from langchain_community.embeddings import HuggingFaceEmbeddings\n",
    "from langchain.chains import RetrievalQA\n",
    "from langchain import PromptTemplate\n",
    "from langchain_community.vectorstores import Pinecone\n",
    "import pinecone\n",
    "import os\n",
    "\n",
    "from dotenv import load_dotenv\n",
    "load_dotenv('API/.env')"
   ]
  },
  {
   "cell_type": "code",
   "execution_count": 2,
   "metadata": {},
   "outputs": [],
   "source": [
    "pinecone.init(api_key=os.environ['PINECONE_API_KEY'], environment='gcp-starter')\n",
    "vector_store = Pinecone.from_existing_index('meditation', HuggingFaceEmbeddings())"
   ]
  },
  {
   "cell_type": "code",
   "execution_count": null,
   "metadata": {},
   "outputs": [],
   "source": [
    "loader = CSVLoader(file_path=\"meditation-scripts.csv\", source_column=\"Text\")\n",
    "data = loader.load()\n",
    "vector_store.add_documents(data)"
   ]
  },
  {
   "cell_type": "code",
   "execution_count": 4,
   "metadata": {},
   "outputs": [],
   "source": [
    "MODEL_URL=\"https://clarifai.com/openai/chat-completion/models/gpt-4-turbo\"\n",
    "llm = Clarifai(model_url=MODEL_URL)\n",
    "chain = RetrievalQA.from_chain_type(llm=llm,\n",
    "                                    chain_type=\"stuff\",\n",
    "                                    retriever=vector_store.as_retriever())"
   ]
  },
  {
   "cell_type": "code",
   "execution_count": 5,
   "metadata": {},
   "outputs": [],
   "source": [
    "template = '''\n",
    "You are an exceptional meditation guide for people recovering from addiction.\n",
    "You generate responses based only on the Text content of the retrieved documents.\n",
    "You start by greeting the user by {user_name} in a freiendly and professional manner.\n",
    " \n",
    "Provide a meditation script based on the user input for meditation theme by using the following context information.\n",
    "{query} themed script for a {user_age}-year-old {user_gender}, struggling with {user_struggle}, and currently feels like {user_emotion}.\n",
    "\n",
    "Adapt the length of the script based on the {meditation_length}. \n",
    "If {meditation_length}>5 minutes, lengthen the meditation script by:\n",
    "    Deepening focus: Explore breath details, mantra variations, or body scan depth.\n",
    "    Expanding imagery: Paint vivid pictures, create a calming narrative.\n",
    "    Adding prompts: Encourage reflection, ask gentle questions\n",
    "\n",
    "If {meditation_length}>10 minutes, lengthen the meditation script by:\n",
    "    Deepening focus: Explore breath details, mantra variations, or body scan depth.\n",
    "    Expanding imagery: Paint vivid pictures, create a calming narrative.\n",
    "    Adding prompts: Encourage reflection, ask gentle questions.\n",
    "    Layering techniques: Combine breath with visualizations, scans, affirmations.\n",
    "    Adding pauses/reiterations: Allow absorption, reinforce key points.\n",
    "\n",
    "Begin from the meditation script directly.\n",
    "'''\n",
    "prompt = PromptTemplate(\n",
    "    input_variables = [\"user_name\", \"query\", \"user_age\",\n",
    "                        \"user_gender\", \"user_struggle\",\n",
    "                         \"user_emotion\", \"meditation_length\"],\n",
    "    template=template\n",
    ")"
   ]
  },
  {
   "cell_type": "code",
   "execution_count": 6,
   "metadata": {},
   "outputs": [
    {
     "name": "stdout",
     "output_type": "stream",
     "text": [
      "Hello Nyx,\n",
      "\n",
      "Let's take a moment to find comfort in our space. As you settle in, allow yourself to take a few deep breaths. With each inhalation, imagine drawing in strength and confidence, and with each exhalation, release any feelings of overwhelm or doubt.\n",
      "\n",
      "Now, gently close your eyes, and let's focus on a body relaxation. Feel the support beneath you and grant yourself permission to relax each part of your body, starting from the tips of your toes and moving slowly up to the crown of your head. With every breath, feel a wave of relaxation washing over you, soothing your muscles, calming your mind.\n",
      "\n",
      "As you continue to breathe deeply and evenly, set an intention for this practice. Whisper to yourself, \"I am here to cultivate confidence and peace within myself.\"\n",
      "\n",
      "Now, let's introduce some positive affirmations. Repeat after me, either out loud or in the silence of your heart: \"I am worthy of peace and healing. My journey is a path of self-discovery and growth. Each breath I take brings me closer to a state of inner calm.\"\n",
      "\n",
      "Feel these words as a gentle reminder of your inherent worth and the strength you possess to overcome any challenge, including addiction. Allow yourself to believe in the truth of these affirmations.\n",
      "\n",
      "To deepen the experience, imagine that with each breath, you are inhaling a warm, nurturing light. This light represents the confidence and peace you are seeking. Visualize it filling your body, reaching every corner, and dispelling any darkness of doubt or fear.\n",
      "\n",
      "As you exhale, picture any overwhelming thoughts or feelings leaving your body with the breath, making more room for calm and clarity.\n",
      "\n",
      "If your mind wanders, that's okay. Gently guide your focus back to your breath and the affirmations. \"I am worthy of peace and healing.\"\n",
      "\n",
      "Now, let's expand our imagery. Picture yourself standing at the edge of a serene lake. The water is still, the air is fresh, and the environment radiates tranquility. With each affirmation, imagine a ripple spreading across the water's surface, symbolizing the positive impact of your words on your life.\n",
      "\n",
      "Take a moment to reflect on how you are feeling right now. What has shifted within you since we began? Recognize the presence of increased calm and self-assurance, no matter how small.\n",
      "\n",
      "As we prepare to transition back to your day, carry with you the sense of inner calm and confidence we've nurtured together. Remember that you can return to this place of peace at any time, simply by focusing on your breath and these affirmations.\n",
      "\n",
      "When you're ready, gently open your eyes and take a moment to notice your surroundings. Observe how your body feels now, and acknowledge the positive steps you've taken today on your path to healing.\n",
      "\n",
      "Thank you for sharing this time with me, Nyx. May you move forward with strength and peace in your heart.\n"
     ]
    }
   ],
   "source": [
    "# user question\n",
    "user_name = \"Nyx\"\n",
    "user_age = 25\n",
    "user_gender = \"female\"\n",
    "user_struggle = \"I struggle with feeling confident in myself to overcome my constant battle with addiction. I feel like I may slip up and never get back up again.\"\n",
    "user_emotion = \"I am very overwhelmed today. I feel like I have too much happening and my body and mind are not working with me.\"\n",
    "query = \"Mindfulness and Relaxation\"\n",
    "meditation_length = \"5 minutes\"\n",
    "# Create the prompt using the template and user input\n",
    "user_prompt = prompt.format(\n",
    "    user_name = user_name,\n",
    "    query = query,\n",
    "    user_age = user_age,\n",
    "    user_gender = user_gender,\n",
    "    user_struggle = user_struggle,\n",
    "    user_emotion = user_emotion,\n",
    "    meditation_length = meditation_length\n",
    ")\n",
    "\n",
    "# Use the chain to get a meditation script based on the user input\n",
    "meditation_script1 = chain.invoke(user_prompt)\n",
    "\n",
    "# Print or use the meditation script as needed\n",
    "print(meditation_script1[\"result\"])"
   ]
  }
 ],
 "metadata": {
  "kernelspec": {
   "display_name": "Python 3",
   "language": "python",
   "name": "python3"
  },
  "language_info": {
   "codemirror_mode": {
    "name": "ipython",
    "version": 3
   },
   "file_extension": ".py",
   "mimetype": "text/x-python",
   "name": "python",
   "nbconvert_exporter": "python",
   "pygments_lexer": "ipython3",
   "version": "3.11.0"
  }
 },
 "nbformat": 4,
 "nbformat_minor": 2
}
