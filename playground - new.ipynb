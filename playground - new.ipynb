{
 "cells": [
  {
   "cell_type": "code",
   "execution_count": 5,
   "metadata": {},
   "outputs": [],
   "source": [
    "os.environ[\"PINECONE_API_KEY\"] = getpass.getpass(\"Pinecone API Key:\")\n",
    "os.environ[\"PINECONE_ENV\"] = getpass.getpass(\"Pinecone Environment:\")\n",
    "# initialize pinecone\n",
    "pinecone.init(\n",
    "    api_key=os.getenv(\"d394083d-4595-4d7d-823f-86fc0b659774\"),  # find at app.pinecone.io\n",
    "    environment=os.getenv(\"gcp-starter\"),  # next to api key in console\n",
    ")\n",
    "\n",
    "index_name = \"hackathon\""
   ]
  },
  {
   "cell_type": "code",
   "execution_count": 65,
   "metadata": {},
   "outputs": [],
   "source": [
    "from langchain_community.document_loaders import CSVLoader\n",
    "import os\n",
    "from langchain_community.llms import Clarifai\n",
    "from langchain_community.embeddings import HuggingFaceEmbeddings\n",
    "import getpass\n",
    "from langchain.chains import RetrievalQA\n",
    "from langchain import PromptTemplate\n",
    "from clarifai.client.model import Model\n",
    "from clarifai.client.input import Inputs\n",
    "from langchain_community.vectorstores import Chroma\n",
    "import chromadb\n",
    "import time\n",
    "from pydub import AudioSegment\n",
    "from pydub.playback import play\n",
    "import io\n",
    "import base64\n"
   ]
  },
  {
   "cell_type": "code",
   "execution_count": 2,
   "metadata": {},
   "outputs": [
    {
     "name": "stderr",
     "output_type": "stream",
     "text": [
      "c:\\Users\\zibaa\\OneDrive\\Desktop\\EmpoweredRecovery\\v\\Lib\\site-packages\\tqdm\\auto.py:21: TqdmWarning: IProgress not found. Please update jupyter and ipywidgets. See https://ipywidgets.readthedocs.io/en/stable/user_install.html\n",
      "  from .autonotebook import tqdm as notebook_tqdm\n",
      "No sentence-transformers model found with name C:\\Users\\zibaa/.cache\\torch\\sentence_transformers\\WhereIsAI_UAE-Large-V1. Creating a new one with MEAN pooling.\n"
     ]
    }
   ],
   "source": [
    "# Create embeddings and the Chromadb vector store\n",
    "embeddings = HuggingFaceEmbeddings(model_name=\"WhereIsAI/UAE-Large-V1\")"
   ]
  },
  {
   "cell_type": "code",
   "execution_count": 3,
   "metadata": {},
   "outputs": [],
   "source": [
    "os.environ[\"CLARIFAI_PAT\"]=\"9a6cd1a04c8c460ba8e27e7db99b4e4e\"\n",
    "MODEL_URL=\"https://clarifai.com/openai/chat-completion/models/gpt-4-turbo\"\n",
    "llm = Clarifai(model_url=MODEL_URL)\n",
    "SPEECH_URL = 'https://clarifai.com/openai/tts/models/openai-tts-1'\n",
    "tts = Clarifai(model_url=SPEECH_URL)\n",
    "\n",
    "loader = CSVLoader(\n",
    "    file_path=\"meditation-scripts.csv\", source_column=\"Text\")\n",
    "data = loader.load()"
   ]
  },
  {
   "cell_type": "code",
   "execution_count": null,
   "metadata": {},
   "outputs": [],
   "source": [
    "# Specify the Deep Lake dataset path\n",
    "dataset_path = \"chromadb_uae\"  # Replace with your desired path\n",
    "# Create embeddings and the Chromadb vector store\n",
    "db = Chroma.from_documents(documents=data, embedding=embeddings, persist_directory=dataset_path, \n",
    "    collection_name=\"meditation\")"
   ]
  },
  {
   "cell_type": "code",
   "execution_count": 7,
   "metadata": {},
   "outputs": [
    {
     "name": "stdout",
     "output_type": "stream",
     "text": [
      "[Collection(name=meditation)]\n"
     ]
    }
   ],
   "source": [
    "client = chromadb.PersistentClient(\"chromadb_uae\")  # Specify data path\n",
    "print(client.list_collections())"
   ]
  },
  {
   "cell_type": "code",
   "execution_count": 8,
   "metadata": {},
   "outputs": [],
   "source": [
    "collection = db.get()\n"
   ]
  },
  {
   "cell_type": "code",
   "execution_count": 9,
   "metadata": {},
   "outputs": [],
   "source": [
    "chain = RetrievalQA.from_chain_type(llm=llm,\n",
    "                                    chain_type=\"stuff\",\n",
    "                                    retriever=db.as_retriever())"
   ]
  },
  {
   "cell_type": "code",
   "execution_count": 30,
   "metadata": {},
   "outputs": [],
   "source": [
    "template = '''\n",
    "You are an exceptional meditation guide for people recovering from addiction.\n",
    "You generate responses based only on the Text content of the retrieved documents.\n",
    "You start by greeting the user by {user_name} in a freiendly and professional manner.\n",
    " \n",
    "Provide a meditation script based on the user input for meditation theme by using the following context information.\n",
    "{query} themed script for a {user_age}-year-old {user_gender}, struggling with {user_struggle}, and currently feels like {user_emotion}.\n",
    "\n",
    "Adapt the length of the script based on the {meditation_length}. \n",
    "If {meditation_length}>5 minutes, lengthen the meditation script by:\n",
    "    Deepening focus: Explore breath details, mantra variations, or body scan depth.\n",
    "    Expanding imagery: Paint vivid pictures, create a calming narrative.\n",
    "    Adding prompts: Encourage reflection, ask gentle questions\n",
    "\n",
    "If {meditation_length}>10 minutes, lengthen the meditation script by:\n",
    "    Deepening focus: Explore breath details, mantra variations, or body scan depth.\n",
    "    Expanding imagery: Paint vivid pictures, create a calming narrative.\n",
    "    Adding prompts: Encourage reflection, ask gentle questions.\n",
    "    Layering techniques: Combine breath with visualizations, scans, affirmations.\n",
    "    Adding pauses/reiterations: Allow absorption, reinforce key points.\n",
    "\n",
    "Begin from the meditation script directly.\n",
    "'''\n",
    "prompt = PromptTemplate(\n",
    "    input_variables = [\"user_name\", \"query\", \"user_age\",\n",
    "                        \"user_gender\", \"user_struggle\",\n",
    "                         \"user_emotion\", \"meditation_length\"],\n",
    "    template=template\n",
    ")"
   ]
  },
  {
   "cell_type": "code",
   "execution_count": 34,
   "metadata": {},
   "outputs": [
    {
     "name": "stdout",
     "output_type": "stream",
     "text": [
      "Good evening, Nyx. Let's take a journey together through mindfulness and relaxation. As you settle in, allow yourself to be present in this moment, letting go of the day's overwhelm as we embark on a path to inner peace and confidence.\n",
      "\n",
      "Begin by finding a comfortable position, sitting or lying down. Close your eyes gently, and let's start with some deep breaths to ground ourselves. Inhale slowly through your nose, feeling your chest and belly expand with fresh air. Exhale through your mouth, releasing any tension you might be holding. With each breath, feel yourself becoming more relaxed.\n",
      "\n",
      "As you continue to breathe, allow my words to guide you: \"I am one with the serenity of nature. Each breath connects me with the calming energy of the outdoors. In this moment, I find peace in nature's embrace.\"\n",
      "\n",
      "Visualize yourself in a tranquil forest. The trees around you are tall and sturdy, their leaves whispering the songs of the earth. You are not alone; nature is with you, supporting you. Feel the gentle breeze against your skin, carrying away your worries. The fresh scent of pine and earth grounds you to this sacred space.\n",
      "\n",
      "With every inhale, imagine drawing in the forest's strength and stability. With every exhale, let go of the fear of slipping up. You are strong, Nyx, stronger than your struggles, and with each breath, you are building resilience.\n",
      "\n",
      "Now, let's deepen the experience by focusing on the details of your breath. Notice the cool air entering your nostrils, the slight pause at the end of each inhale, and the warm air leaving your body as you exhale. Embrace the rhythm of your breathing, steady and dependable, like the heartbeat of the forest around you.\n",
      "\n",
      "Repeat after me, with conviction and belief in your own power: \"I am worthy of peace and healing. My journey is a path of self-discovery and growth. Each breath I take brings me closer to a state of inner calm.\"\n",
      "\n",
      "Let's layer this affirmation with the visualization of a nurturing light. Imagine a warm, comforting glow at the center of your being, growing brighter with each affirmation. This light represents your inner strength, your capacity for healing, and your unshakeable resolve to overcome addiction.\n",
      "\n",
      "Take a moment to reflect on your journey thus far. Remember that every step, no matter how small, is progress. Each day you choose to fight, you are growing, learning, and moving forward.\n",
      "\n",
      "As we approach the end of this meditation, carry the feelings of peace and self-assurance with you. Gently bring your awareness back to the room, wiggling your fingers and toes. When you're ready, open your eyes, returning to the present, refreshed and empowered.\n",
      "\n",
      "Remember, Nyx, you are not alone in this battle. You have the strength of nature and the light within to guide you through. May you find serenity in every breath and confidence in each step of your journey.\n"
     ]
    }
   ],
   "source": [
    "# user question\n",
    "user_name = \"Nyx\"\n",
    "user_age = 25\n",
    "user_gender = \"female\"\n",
    "user_struggle = \"I struggle with feeling confident in myself to overcome my constant battle with addiction. I feel like I may slip up and never get back up again.\"\n",
    "user_emotion = \"I am very overwhelmed today. I feel like I have too much happening and my body and mind are not working with me.\"\n",
    "query = \"Mindfulness and Relaxation\"\n",
    "meditation_length = \"5 minutes\"\n",
    "# Create the prompt using the template and user input\n",
    "user_prompt = prompt.format(\n",
    "    user_name = user_name,\n",
    "    query = query,\n",
    "    user_age = user_age,\n",
    "    user_gender = user_gender,\n",
    "    user_struggle = user_struggle,\n",
    "    user_emotion = user_emotion,\n",
    "    meditation_length = meditation_length\n",
    ")\n",
    "\n",
    "# Use the chain to get a meditation script based on the user input\n",
    "meditation_script1 = chain.invoke(user_prompt)\n",
    "\n",
    "# Print or use the meditation script as needed\n",
    "print(meditation_script1[\"result\"])"
   ]
  },
  {
   "cell_type": "code",
   "execution_count": 32,
   "metadata": {},
   "outputs": [
    {
     "name": "stdout",
     "output_type": "stream",
     "text": [
      "Welcome, Nyx. Let's begin a Mindfulness and Relaxation meditation to help you find balance and confidence on your journey to recovery.\n",
      "\n",
      "Begin by finding a comfortable position, sitting or lying down, in a place where you can be undisturbed for the next while. Close your eyes if you feel comfortable doing so, and let's take a moment to arrive in this space, together.\n",
      "\n",
      "Take a deep breath in, filling your lungs with fresh air. Exhale slowly, feeling any tension melting away from your body. Inhale again, deeply, and as you exhale, visualize releasing the overwhelming thoughts and worries that have been holding you tight.\n",
      "\n",
      "With each inhale, imagine drawing in strength and confidence. With every exhale, let go of the fear of slipping up. Remember, you are worthy of peace and healing. Your journey is a path of self-discovery and growth.\n",
      "\n",
      "Let's deepen our focus. Pay attention to the sensation of the breath as it enters through your nostrils, fills your chest and belly, and then releases back into the world. Notice the slight pause between each breath—a sacred space of potential and rest.\n",
      "\n",
      "Now, let's expand the imagery. Picture yourself in a serene forest, surrounded by tall, strong trees that have withstood the tests of time and weather. Their roots go deep into the earth, just as your own strength runs deep within you. Each breath you take connects you with the calming energy of nature, grounding you in the present moment.\n",
      "\n",
      "As we continue, repeat after me either aloud or in your heart:\n",
      "\n",
      "\"I am one with the serenity of nature. Each breath connects me with the calming energy of the outdoors. In this moment, I find peace in nature's embrace.\"\n",
      "\n",
      "Feel these words resonate within you, affirming your connection to the world around you and your ability to find tranquility even amidst chaos.\n",
      "\n",
      "Now, let's layer our techniques. As you continue to breathe deeply, begin a gentle body scan from the top of your head to the tips of your toes. With each breath, send love and compassion to each part of your body. If you encounter areas of tension, breathe into them, and visualize a warm light soothing and relaxing your muscles.\n",
      "\n",
      "Let's add a gentle question for reflection. Ask yourself, \"What small step can I take today to nourish my confidence and support my recovery?\" There is no pressure to find an answer right away. Let this question sit with you, and trust that insight will come in its own time.\n",
      "\n",
      "As we draw this meditation to a close, take a few more deep breaths, allowing the sense of calm and confidence to fill you completely. Remember that you are not alone on this journey, and with each breath, you are taking a step towards a state of inner calm.\n",
      "\n",
      "When you are ready, gently open your eyes, bringing the peace and strength from this meditation into the rest of your day.\n",
      "\n",
      "Thank you for sharing this time with me, Nyx. Remember, you have the resilience to overcome your battles, and you are supported every step of the way.\n"
     ]
    }
   ],
   "source": [
    "# user question\n",
    "user_name = \"Nyx\"\n",
    "user_age = 25\n",
    "user_gender = \"female\"\n",
    "user_struggle = \"I struggle with feeling confident in myself to overcome my constant battle with addiction. I feel like I may slip up and never get back up again.\"\n",
    "user_emotion = \"I am very overwhelmed today. I feel like I have too much happening and my body and mind are not working with me.\"\n",
    "query = \"Mindfulness and Relaxation\"\n",
    "meditation_length = \"10 minutes\"\n",
    "# Create the prompt using the template and user input\n",
    "user_prompt = prompt.format(\n",
    "    user_name = user_name,\n",
    "    query = query,\n",
    "    user_age = user_age,\n",
    "    user_gender = user_gender,\n",
    "    user_struggle = user_struggle,\n",
    "    user_emotion = user_emotion,\n",
    "    meditation_length = meditation_length\n",
    ")\n",
    "\n",
    "# Use the chain to get a meditation script based on the user input\n",
    "meditation_script2 = chain.invoke(user_prompt)\n",
    "\n",
    "# Print or use the meditation script as needed\n",
    "print(meditation_script2[\"result\"])"
   ]
  },
  {
   "cell_type": "code",
   "execution_count": 33,
   "metadata": {},
   "outputs": [
    {
     "name": "stdout",
     "output_type": "stream",
     "text": [
      "Welcome, Nyx. Let's begin our mindfulness and relaxation meditation to help you find confidence and calm in your journey towards recovery.\n",
      "\n",
      "Begin by finding a comfortable seated position. Close your eyes, and allow yourself to arrive fully in this moment. Take a deep breath in, filling your lungs with air, and exhale slowly, letting go of any immediate worries or stress. With each breath, feel yourself becoming more relaxed.\n",
      "\n",
      "Now, focus on your breath. Notice the sensation of the air entering through your nostrils, filling your chest and belly, and then gently leaving your body. Imagine with each inhalation you are drawing in strength and serenity, and with each exhalation, you are releasing doubt and fear.\n",
      "\n",
      "Repeat after me: \"I am one with the serenity of nature. Each breath connects me with the calming energy of the outdoors. In this moment, I find peace in nature's embrace.\"\n",
      "\n",
      "Allow this affirmation to resonate within you. Visualize yourself surrounded by nature, perhaps a tranquil forest or a serene lakeside. The sun is gently warming your skin, the breeze is softly caressing your face, and the sounds of nature are harmonizing with your breath.\n",
      "\n",
      "Let's deepen our focus. Pay attention to the rise and fall of your chest. Feel the rhythm of your heartbeat, a gentle, reassuring drum, reminding you of your strength and resilience. \n",
      "\n",
      "Now, bring your awareness to any areas of your body that may feel tense. With each breath, send a wave of relaxation to these areas. Visualize a healing light emanating from your core, spreading to every part of your body, soothing and repairing.\n",
      "\n",
      "Repeat after me: \"I am worthy of peace and healing. My journey is a path of self-discovery and growth. Each breath I take brings me closer to a state of inner calm.\"\n",
      "\n",
      "Envision this healing light as a protective shield, empowering you to face your challenges with confidence. You are not alone in this struggle, and each step forward is a victory.\n",
      "\n",
      "As we continue, reflect gently on what it means to be confident in your ability to overcome addiction. Confidence is not the absence of fear, but the determination to move forward despite it. Allow yourself to acknowledge your fears and then let them go with your exhale.\n",
      "\n",
      "Let's expand our imagery. Imagine that with each inhalation, you're climbing a mountain. With each step, you are moving higher, seeing more of the world below. The journey is challenging, but you are strong, and with each breath, you are filled with determination and courage.\n",
      "\n",
      "Take a moment to pause, to allow the imagery and the feelings of confidence to settle within you. Feel the power of your own breath, the steadfast companion on your journey.\n",
      "\n",
      "Now, start to combine your breath with the visualization of the healing light. As you inhale, the light grows brighter, and as you exhale, it radiates throughout your body, reinforcing your shield of confidence and peace.\n",
      "\n",
      "Before we close, let's add a few moments of silence. In this silence, let the affirmations and visualizations you've experienced permeate your consciousness. Absorb the tranquility and strength you've cultivated during this session.\n",
      "\n",
      "As we approach the end of our meditation, begin to bring your awareness back to the room. Wiggle your fingers and toes, and when you're ready, gently open your eyes.\n",
      "\n",
      "Remember, Nyx, that you are capable and strong. Carry this sense of inner calm and confidence with you as you transition back into your day. Namaste.\n"
     ]
    }
   ],
   "source": [
    "# user question\n",
    "user_name = \"Nyx\"\n",
    "user_age = 25\n",
    "user_gender = \"female\"\n",
    "user_struggle = \"I struggle with feeling confident in myself to overcome my constant battle with addiction. I feel like I may slip up and never get back up again.\"\n",
    "user_emotion = \"I am very overwhelmed today. I feel like I have too much happening and my body and mind are not working with me.\"\n",
    "query = \"Mindfulness and Relaxation\"\n",
    "meditation_length = \"15 minutes\"\n",
    "# Create the prompt using the template and user input\n",
    "user_prompt = prompt.format(\n",
    "    user_name = user_name,\n",
    "    query = query,\n",
    "    user_age = user_age,\n",
    "    user_gender = user_gender,\n",
    "    user_struggle = user_struggle,\n",
    "    user_emotion = user_emotion,\n",
    "    meditation_length = meditation_length\n",
    ")\n",
    "\n",
    "# Use the chain to get a meditation script based on the user input\n",
    "meditation_script3 = chain.invoke(user_prompt)\n",
    "\n",
    "# Print or use the meditation script as needed\n",
    "print(meditation_script3[\"result\"])"
   ]
  },
  {
   "cell_type": "code",
   "execution_count": 43,
   "metadata": {},
   "outputs": [
    {
     "data": {
      "text/plain": [
       "str"
      ]
     },
     "execution_count": 43,
     "metadata": {},
     "output_type": "execute_result"
    }
   ],
   "source": [
    "type(meditation_script3[\"result\"])"
   ]
  },
  {
   "cell_type": "code",
   "execution_count": 51,
   "metadata": {},
   "outputs": [
    {
     "data": {
      "text/plain": [
       "list"
      ]
     },
     "execution_count": 51,
     "metadata": {},
     "output_type": "execute_result"
    }
   ],
   "source": [
    "sections = meditation_script1[\"result\"].split(\"\\n\\n\")\n",
    "type(sections)"
   ]
  },
  {
   "cell_type": "code",
   "execution_count": 54,
   "metadata": {},
   "outputs": [
    {
     "data": {
      "text/html": [
       "<pre style=\"white-space:pre;overflow-x:auto;line-height:normal;font-family:Menlo,'DejaVu Sans Mono',consolas,'Courier New',monospace\"><span style=\"color: #800000; text-decoration-color: #800000\">╭─────────────────────────────── </span><span style=\"color: #800000; text-decoration-color: #800000; font-weight: bold\">Traceback </span><span style=\"color: #bf7f7f; text-decoration-color: #bf7f7f; font-weight: bold\">(most recent call last)</span><span style=\"color: #800000; text-decoration-color: #800000\"> ────────────────────────────────╮</span>\n",
       "<span style=\"color: #800000; text-decoration-color: #800000\">│</span> in <span style=\"color: #00ff00; text-decoration-color: #00ff00\">&lt;module&gt;</span>:<span style=\"color: #0000ff; text-decoration-color: #0000ff\">47</span>                                                                                   <span style=\"color: #800000; text-decoration-color: #800000\">│</span>\n",
       "<span style=\"color: #800000; text-decoration-color: #800000\">│</span>                                                                                                  <span style=\"color: #800000; text-decoration-color: #800000\">│</span>\n",
       "<span style=\"color: #800000; text-decoration-color: #800000\">│</span>   <span style=\"color: #7f7f7f; text-decoration-color: #7f7f7f\">44 </span>                                                                                            <span style=\"color: #800000; text-decoration-color: #800000\">│</span>\n",
       "<span style=\"color: #800000; text-decoration-color: #800000\">│</span>   <span style=\"color: #7f7f7f; text-decoration-color: #7f7f7f\">45 </span><span style=\"color: #0000ff; text-decoration-color: #0000ff\">for</span> i, section <span style=\"color: #ff00ff; text-decoration-color: #ff00ff\">in</span> <span style=\"color: #00ffff; text-decoration-color: #00ffff\">enumerate</span>(sections):                                                      <span style=\"color: #800000; text-decoration-color: #800000\">│</span>\n",
       "<span style=\"color: #800000; text-decoration-color: #800000\">│</span>   <span style=\"color: #7f7f7f; text-decoration-color: #7f7f7f\">46 </span><span style=\"color: #7f7f7f; text-decoration-color: #7f7f7f\">│   </span>message = {<span style=\"color: #808000; text-decoration-color: #808000\">\"text\"</span>: section.encode().decode()}  <span style=\"color: #7f7f7f; text-decoration-color: #7f7f7f\"># Convert bytes to str</span>                   <span style=\"color: #800000; text-decoration-color: #800000\">│</span>\n",
       "<span style=\"color: #800000; text-decoration-color: #800000\">│</span> <span style=\"color: #800000; text-decoration-color: #800000\">❱ </span>47 <span style=\"color: #7f7f7f; text-decoration-color: #7f7f7f\">│   </span>audio = tts.invoke([message], input_type=<span style=\"color: #808000; text-decoration-color: #808000\">\"text\"</span>, inference_params={<span style=\"color: #808000; text-decoration-color: #808000\">'voice'</span>: <span style=\"color: #808000; text-decoration-color: #808000\">\"onyx\"</span>,     <span style=\"color: #800000; text-decoration-color: #800000\">│</span>\n",
       "<span style=\"color: #800000; text-decoration-color: #800000\">│</span>   <span style=\"color: #7f7f7f; text-decoration-color: #7f7f7f\">48 </span><span style=\"color: #7f7f7f; text-decoration-color: #7f7f7f\">│   </span>audio.stream_to_file(<span style=\"color: #808000; text-decoration-color: #808000\">f\"section_{</span>i+<span style=\"color: #0000ff; text-decoration-color: #0000ff\">1</span><span style=\"color: #808000; text-decoration-color: #808000\">}.mp3\"</span>)  <span style=\"color: #7f7f7f; text-decoration-color: #7f7f7f\"># Save each section separately</span>              <span style=\"color: #800000; text-decoration-color: #800000\">│</span>\n",
       "<span style=\"color: #800000; text-decoration-color: #800000\">│</span>   <span style=\"color: #7f7f7f; text-decoration-color: #7f7f7f\">49 </span><span style=\"color: #7f7f7f; text-decoration-color: #7f7f7f\">│   </span>                                                                                        <span style=\"color: #800000; text-decoration-color: #800000\">│</span>\n",
       "<span style=\"color: #800000; text-decoration-color: #800000\">│</span>   <span style=\"color: #7f7f7f; text-decoration-color: #7f7f7f\">50 </span><span style=\"color: #7f7f7f; text-decoration-color: #7f7f7f\">│   </span><span style=\"color: #7f7f7f; text-decoration-color: #7f7f7f\"># Pause for a specific duration before the next section</span>                                 <span style=\"color: #800000; text-decoration-color: #800000\">│</span>\n",
       "<span style=\"color: #800000; text-decoration-color: #800000\">│</span>                                                                                                  <span style=\"color: #800000; text-decoration-color: #800000\">│</span>\n",
       "<span style=\"color: #800000; text-decoration-color: #800000\">│</span> <span style=\"color: #808000; text-decoration-color: #808000\">c:\\Users\\zibaa\\OneDrive\\Desktop\\EmpoweredRecovery\\v\\Lib\\site-packages\\langchain_core\\language_mo</span> <span style=\"color: #800000; text-decoration-color: #800000\">│</span>\n",
       "<span style=\"color: #800000; text-decoration-color: #800000\">│</span> <span style=\"color: #808000; text-decoration-color: #808000\">dels\\llms.py</span>:<span style=\"color: #0000ff; text-decoration-color: #0000ff\">231</span> in <span style=\"color: #00ff00; text-decoration-color: #00ff00\">invoke</span>                                                                       <span style=\"color: #800000; text-decoration-color: #800000\">│</span>\n",
       "<span style=\"color: #800000; text-decoration-color: #800000\">│</span>                                                                                                  <span style=\"color: #800000; text-decoration-color: #800000\">│</span>\n",
       "<span style=\"color: #800000; text-decoration-color: #800000\">│</span>   <span style=\"color: #7f7f7f; text-decoration-color: #7f7f7f\"> 228 </span><span style=\"color: #7f7f7f; text-decoration-color: #7f7f7f\">│   │   </span>config = ensure_config(config)                                                    <span style=\"color: #800000; text-decoration-color: #800000\">│</span>\n",
       "<span style=\"color: #800000; text-decoration-color: #800000\">│</span>   <span style=\"color: #7f7f7f; text-decoration-color: #7f7f7f\"> 229 </span><span style=\"color: #7f7f7f; text-decoration-color: #7f7f7f\">│   │   </span><span style=\"color: #0000ff; text-decoration-color: #0000ff\">return</span> (                                                                          <span style=\"color: #800000; text-decoration-color: #800000\">│</span>\n",
       "<span style=\"color: #800000; text-decoration-color: #800000\">│</span>   <span style=\"color: #7f7f7f; text-decoration-color: #7f7f7f\"> 230 </span><span style=\"color: #7f7f7f; text-decoration-color: #7f7f7f\">│   │   │   </span><span style=\"color: #00ffff; text-decoration-color: #00ffff\">self</span>.generate_prompt(                                                         <span style=\"color: #800000; text-decoration-color: #800000\">│</span>\n",
       "<span style=\"color: #800000; text-decoration-color: #800000\">│</span> <span style=\"color: #800000; text-decoration-color: #800000\">❱ </span> 231 <span style=\"color: #7f7f7f; text-decoration-color: #7f7f7f\">│   │   │   │   </span>[<span style=\"color: #00ffff; text-decoration-color: #00ffff\">self</span>._convert_input(<span style=\"color: #00ffff; text-decoration-color: #00ffff\">input</span>)],                                             <span style=\"color: #800000; text-decoration-color: #800000\">│</span>\n",
       "<span style=\"color: #800000; text-decoration-color: #800000\">│</span>   <span style=\"color: #7f7f7f; text-decoration-color: #7f7f7f\"> 232 </span><span style=\"color: #7f7f7f; text-decoration-color: #7f7f7f\">│   │   │   │   </span>stop=stop,                                                                <span style=\"color: #800000; text-decoration-color: #800000\">│</span>\n",
       "<span style=\"color: #800000; text-decoration-color: #800000\">│</span>   <span style=\"color: #7f7f7f; text-decoration-color: #7f7f7f\"> 233 </span><span style=\"color: #7f7f7f; text-decoration-color: #7f7f7f\">│   │   │   │   </span>callbacks=config.get(<span style=\"color: #808000; text-decoration-color: #808000\">\"callbacks\"</span>),                                        <span style=\"color: #800000; text-decoration-color: #800000\">│</span>\n",
       "<span style=\"color: #800000; text-decoration-color: #800000\">│</span>   <span style=\"color: #7f7f7f; text-decoration-color: #7f7f7f\"> 234 </span><span style=\"color: #7f7f7f; text-decoration-color: #7f7f7f\">│   │   │   │   </span>tags=config.get(<span style=\"color: #808000; text-decoration-color: #808000\">\"tags\"</span>),                                                  <span style=\"color: #800000; text-decoration-color: #800000\">│</span>\n",
       "<span style=\"color: #800000; text-decoration-color: #800000\">│</span>                                                                                                  <span style=\"color: #800000; text-decoration-color: #800000\">│</span>\n",
       "<span style=\"color: #800000; text-decoration-color: #800000\">│</span> <span style=\"color: #808000; text-decoration-color: #808000\">c:\\Users\\zibaa\\OneDrive\\Desktop\\EmpoweredRecovery\\v\\Lib\\site-packages\\langchain_core\\language_mo</span> <span style=\"color: #800000; text-decoration-color: #800000\">│</span>\n",
       "<span style=\"color: #800000; text-decoration-color: #800000\">│</span> <span style=\"color: #808000; text-decoration-color: #808000\">dels\\llms.py</span>:<span style=\"color: #0000ff; text-decoration-color: #0000ff\">213</span> in <span style=\"color: #00ff00; text-decoration-color: #00ff00\">_convert_input</span>                                                               <span style=\"color: #800000; text-decoration-color: #800000\">│</span>\n",
       "<span style=\"color: #800000; text-decoration-color: #800000\">│</span>                                                                                                  <span style=\"color: #800000; text-decoration-color: #800000\">│</span>\n",
       "<span style=\"color: #800000; text-decoration-color: #800000\">│</span>   <span style=\"color: #7f7f7f; text-decoration-color: #7f7f7f\"> 210 </span><span style=\"color: #7f7f7f; text-decoration-color: #7f7f7f\">│   │   </span><span style=\"color: #0000ff; text-decoration-color: #0000ff\">elif</span> <span style=\"color: #00ffff; text-decoration-color: #00ffff\">isinstance</span>(<span style=\"color: #00ffff; text-decoration-color: #00ffff\">input</span>, <span style=\"color: #00ffff; text-decoration-color: #00ffff\">str</span>):                                                      <span style=\"color: #800000; text-decoration-color: #800000\">│</span>\n",
       "<span style=\"color: #800000; text-decoration-color: #800000\">│</span>   <span style=\"color: #7f7f7f; text-decoration-color: #7f7f7f\"> 211 </span><span style=\"color: #7f7f7f; text-decoration-color: #7f7f7f\">│   │   │   </span><span style=\"color: #0000ff; text-decoration-color: #0000ff\">return</span> StringPromptValue(text=<span style=\"color: #00ffff; text-decoration-color: #00ffff\">input</span>)                                          <span style=\"color: #800000; text-decoration-color: #800000\">│</span>\n",
       "<span style=\"color: #800000; text-decoration-color: #800000\">│</span>   <span style=\"color: #7f7f7f; text-decoration-color: #7f7f7f\"> 212 </span><span style=\"color: #7f7f7f; text-decoration-color: #7f7f7f\">│   │   </span><span style=\"color: #0000ff; text-decoration-color: #0000ff\">elif</span> <span style=\"color: #00ffff; text-decoration-color: #00ffff\">isinstance</span>(<span style=\"color: #00ffff; text-decoration-color: #00ffff\">input</span>, Sequence):                                                 <span style=\"color: #800000; text-decoration-color: #800000\">│</span>\n",
       "<span style=\"color: #800000; text-decoration-color: #800000\">│</span> <span style=\"color: #800000; text-decoration-color: #800000\">❱ </span> 213 <span style=\"color: #7f7f7f; text-decoration-color: #7f7f7f\">│   │   │   </span><span style=\"color: #0000ff; text-decoration-color: #0000ff\">return</span> ChatPromptValue(messages=<span style=\"color: #00ffff; text-decoration-color: #00ffff\">input</span>)                                        <span style=\"color: #800000; text-decoration-color: #800000\">│</span>\n",
       "<span style=\"color: #800000; text-decoration-color: #800000\">│</span>   <span style=\"color: #7f7f7f; text-decoration-color: #7f7f7f\"> 214 </span><span style=\"color: #7f7f7f; text-decoration-color: #7f7f7f\">│   │   </span><span style=\"color: #0000ff; text-decoration-color: #0000ff\">else</span>:                                                                             <span style=\"color: #800000; text-decoration-color: #800000\">│</span>\n",
       "<span style=\"color: #800000; text-decoration-color: #800000\">│</span>   <span style=\"color: #7f7f7f; text-decoration-color: #7f7f7f\"> 215 </span><span style=\"color: #7f7f7f; text-decoration-color: #7f7f7f\">│   │   │   </span><span style=\"color: #0000ff; text-decoration-color: #0000ff\">raise</span> <span style=\"color: #00ffff; text-decoration-color: #00ffff\">ValueError</span>(                                                             <span style=\"color: #800000; text-decoration-color: #800000\">│</span>\n",
       "<span style=\"color: #800000; text-decoration-color: #800000\">│</span>   <span style=\"color: #7f7f7f; text-decoration-color: #7f7f7f\"> 216 </span><span style=\"color: #7f7f7f; text-decoration-color: #7f7f7f\">│   │   │   │   </span><span style=\"color: #808000; text-decoration-color: #808000\">f\"Invalid input type {</span><span style=\"color: #00ffff; text-decoration-color: #00ffff\">type</span>(<span style=\"color: #00ffff; text-decoration-color: #00ffff\">input</span>)<span style=\"color: #808000; text-decoration-color: #808000\">}. \"</span>                                     <span style=\"color: #800000; text-decoration-color: #800000\">│</span>\n",
       "<span style=\"color: #800000; text-decoration-color: #800000\">│</span>                                                                                                  <span style=\"color: #800000; text-decoration-color: #800000\">│</span>\n",
       "<span style=\"color: #800000; text-decoration-color: #800000\">│</span> <span style=\"color: #808000; text-decoration-color: #808000\">c:\\Users\\zibaa\\OneDrive\\Desktop\\EmpoweredRecovery\\v\\Lib\\site-packages\\langchain_core\\load\\serial</span> <span style=\"color: #800000; text-decoration-color: #800000\">│</span>\n",
       "<span style=\"color: #800000; text-decoration-color: #800000\">│</span> <span style=\"color: #808000; text-decoration-color: #808000\">izable.py</span>:<span style=\"color: #0000ff; text-decoration-color: #0000ff\">107</span> in <span style=\"color: #00ff00; text-decoration-color: #00ff00\">__init__</span>                                                                        <span style=\"color: #800000; text-decoration-color: #800000\">│</span>\n",
       "<span style=\"color: #800000; text-decoration-color: #800000\">│</span>                                                                                                  <span style=\"color: #800000; text-decoration-color: #800000\">│</span>\n",
       "<span style=\"color: #800000; text-decoration-color: #800000\">│</span>   <span style=\"color: #7f7f7f; text-decoration-color: #7f7f7f\">104 </span><span style=\"color: #7f7f7f; text-decoration-color: #7f7f7f\">│   </span>_lc_kwargs = PrivateAttr(default_factory=<span style=\"color: #00ffff; text-decoration-color: #00ffff\">dict</span>)                                         <span style=\"color: #800000; text-decoration-color: #800000\">│</span>\n",
       "<span style=\"color: #800000; text-decoration-color: #800000\">│</span>   <span style=\"color: #7f7f7f; text-decoration-color: #7f7f7f\">105 </span><span style=\"color: #7f7f7f; text-decoration-color: #7f7f7f\">│   </span>                                                                                       <span style=\"color: #800000; text-decoration-color: #800000\">│</span>\n",
       "<span style=\"color: #800000; text-decoration-color: #800000\">│</span>   <span style=\"color: #7f7f7f; text-decoration-color: #7f7f7f\">106 </span><span style=\"color: #7f7f7f; text-decoration-color: #7f7f7f\">│   </span><span style=\"color: #0000ff; text-decoration-color: #0000ff\">def</span> <span style=\"color: #00ff00; text-decoration-color: #00ff00\">__init__</span>(<span style=\"color: #00ffff; text-decoration-color: #00ffff\">self</span>, **kwargs: Any) -&gt; <span style=\"color: #0000ff; text-decoration-color: #0000ff\">None</span>:                                             <span style=\"color: #800000; text-decoration-color: #800000\">│</span>\n",
       "<span style=\"color: #800000; text-decoration-color: #800000\">│</span> <span style=\"color: #800000; text-decoration-color: #800000\">❱ </span>107 <span style=\"color: #7f7f7f; text-decoration-color: #7f7f7f\">│   │   </span><span style=\"color: #00ffff; text-decoration-color: #00ffff\">super</span>().<span style=\"color: #00ff00; text-decoration-color: #00ff00\">__init__</span>(**kwargs)                                                         <span style=\"color: #800000; text-decoration-color: #800000\">│</span>\n",
       "<span style=\"color: #800000; text-decoration-color: #800000\">│</span>   <span style=\"color: #7f7f7f; text-decoration-color: #7f7f7f\">108 </span><span style=\"color: #7f7f7f; text-decoration-color: #7f7f7f\">│   │   </span><span style=\"color: #00ffff; text-decoration-color: #00ffff\">self</span>._lc_kwargs = kwargs                                                           <span style=\"color: #800000; text-decoration-color: #800000\">│</span>\n",
       "<span style=\"color: #800000; text-decoration-color: #800000\">│</span>   <span style=\"color: #7f7f7f; text-decoration-color: #7f7f7f\">109 </span><span style=\"color: #7f7f7f; text-decoration-color: #7f7f7f\">│   </span>                                                                                       <span style=\"color: #800000; text-decoration-color: #800000\">│</span>\n",
       "<span style=\"color: #800000; text-decoration-color: #800000\">│</span>   <span style=\"color: #7f7f7f; text-decoration-color: #7f7f7f\">110 </span><span style=\"color: #7f7f7f; text-decoration-color: #7f7f7f\">│   </span><span style=\"color: #0000ff; text-decoration-color: #0000ff\">def</span> <span style=\"color: #00ff00; text-decoration-color: #00ff00\">to_json</span>(<span style=\"color: #00ffff; text-decoration-color: #00ffff\">self</span>) -&gt; Union[SerializedConstructor, SerializedNotImplemented]:           <span style=\"color: #800000; text-decoration-color: #800000\">│</span>\n",
       "<span style=\"color: #800000; text-decoration-color: #800000\">│</span>                                                                                                  <span style=\"color: #800000; text-decoration-color: #800000\">│</span>\n",
       "<span style=\"color: #800000; text-decoration-color: #800000\">│</span> <span style=\"color: #808000; text-decoration-color: #808000\">c:\\Users\\zibaa\\OneDrive\\Desktop\\EmpoweredRecovery\\v\\Lib\\site-packages\\pydantic\\v1\\main.py</span>:<span style=\"color: #0000ff; text-decoration-color: #0000ff\">341</span> in <span style=\"color: #800000; text-decoration-color: #800000\">│</span>\n",
       "<span style=\"color: #800000; text-decoration-color: #800000\">│</span> <span style=\"color: #00ff00; text-decoration-color: #00ff00\">__init__</span>                                                                                         <span style=\"color: #800000; text-decoration-color: #800000\">│</span>\n",
       "<span style=\"color: #800000; text-decoration-color: #800000\">│</span>                                                                                                  <span style=\"color: #800000; text-decoration-color: #800000\">│</span>\n",
       "<span style=\"color: #800000; text-decoration-color: #800000\">│</span>   <span style=\"color: #7f7f7f; text-decoration-color: #7f7f7f\"> 338 </span><span style=\"color: #7f7f7f; text-decoration-color: #7f7f7f\">│   │   </span><span style=\"color: #7f7f7f; text-decoration-color: #7f7f7f\"># Uses something other than `self` the first arg to allow \"self\" as a settable a</span>  <span style=\"color: #800000; text-decoration-color: #800000\">│</span>\n",
       "<span style=\"color: #800000; text-decoration-color: #800000\">│</span>   <span style=\"color: #7f7f7f; text-decoration-color: #7f7f7f\"> 339 </span><span style=\"color: #7f7f7f; text-decoration-color: #7f7f7f\">│   │   </span>values, fields_set, validation_error = validate_model(__pydantic_self__.<span style=\"color: #ff0000; text-decoration-color: #ff0000\">__class_</span>  <span style=\"color: #800000; text-decoration-color: #800000\">│</span>\n",
       "<span style=\"color: #800000; text-decoration-color: #800000\">│</span>   <span style=\"color: #7f7f7f; text-decoration-color: #7f7f7f\"> 340 </span><span style=\"color: #7f7f7f; text-decoration-color: #7f7f7f\">│   │   </span><span style=\"color: #0000ff; text-decoration-color: #0000ff\">if</span> validation_error:                                                              <span style=\"color: #800000; text-decoration-color: #800000\">│</span>\n",
       "<span style=\"color: #800000; text-decoration-color: #800000\">│</span> <span style=\"color: #800000; text-decoration-color: #800000\">❱ </span> 341 <span style=\"color: #7f7f7f; text-decoration-color: #7f7f7f\">│   │   │   </span><span style=\"color: #0000ff; text-decoration-color: #0000ff\">raise</span> validation_error                                                        <span style=\"color: #800000; text-decoration-color: #800000\">│</span>\n",
       "<span style=\"color: #800000; text-decoration-color: #800000\">│</span>   <span style=\"color: #7f7f7f; text-decoration-color: #7f7f7f\"> 342 </span><span style=\"color: #7f7f7f; text-decoration-color: #7f7f7f\">│   │   </span><span style=\"color: #0000ff; text-decoration-color: #0000ff\">try</span>:                                                                              <span style=\"color: #800000; text-decoration-color: #800000\">│</span>\n",
       "<span style=\"color: #800000; text-decoration-color: #800000\">│</span>   <span style=\"color: #7f7f7f; text-decoration-color: #7f7f7f\"> 343 </span><span style=\"color: #7f7f7f; text-decoration-color: #7f7f7f\">│   │   │   </span>object_setattr(__pydantic_self__, <span style=\"color: #808000; text-decoration-color: #808000\">'__dict__'</span>, values)                         <span style=\"color: #800000; text-decoration-color: #800000\">│</span>\n",
       "<span style=\"color: #800000; text-decoration-color: #800000\">│</span>   <span style=\"color: #7f7f7f; text-decoration-color: #7f7f7f\"> 344 </span><span style=\"color: #7f7f7f; text-decoration-color: #7f7f7f\">│   │   </span><span style=\"color: #0000ff; text-decoration-color: #0000ff\">except</span> <span style=\"color: #00ffff; text-decoration-color: #00ffff\">TypeError</span> <span style=\"color: #0000ff; text-decoration-color: #0000ff\">as</span> e:                                                            <span style=\"color: #800000; text-decoration-color: #800000\">│</span>\n",
       "<span style=\"color: #800000; text-decoration-color: #800000\">╰──────────────────────────────────────────────────────────────────────────────────────────────────╯</span>\n",
       "<span style=\"color: #ff0000; text-decoration-color: #ff0000; font-weight: bold\">ValidationError: </span><span style=\"color: #008080; text-decoration-color: #008080; font-weight: bold\">2</span> validation errors for ChatPromptValue\n",
       "messages -&gt; <span style=\"color: #008080; text-decoration-color: #008080; font-weight: bold\">0</span> -&gt; content\n",
       "  field required <span style=\"font-weight: bold\">(</span><span style=\"color: #808000; text-decoration-color: #808000\">type</span>=<span style=\"color: #800080; text-decoration-color: #800080\">value_error</span>.missing<span style=\"font-weight: bold\">)</span>\n",
       "messages -&gt; <span style=\"color: #008080; text-decoration-color: #008080; font-weight: bold\">0</span> -&gt; type\n",
       "  field required <span style=\"font-weight: bold\">(</span><span style=\"color: #808000; text-decoration-color: #808000\">type</span>=<span style=\"color: #800080; text-decoration-color: #800080\">value_error</span>.missing<span style=\"font-weight: bold\">)</span>\n",
       "</pre>\n"
      ],
      "text/plain": [
       "\u001b[31m╭─\u001b[0m\u001b[31m──────────────────────────────\u001b[0m\u001b[31m \u001b[0m\u001b[1;31mTraceback \u001b[0m\u001b[1;2;31m(most recent call last)\u001b[0m\u001b[31m \u001b[0m\u001b[31m───────────────────────────────\u001b[0m\u001b[31m─╮\u001b[0m\n",
       "\u001b[31m│\u001b[0m in \u001b[92m<module>\u001b[0m:\u001b[94m47\u001b[0m                                                                                   \u001b[31m│\u001b[0m\n",
       "\u001b[31m│\u001b[0m                                                                                                  \u001b[31m│\u001b[0m\n",
       "\u001b[31m│\u001b[0m   \u001b[2m44 \u001b[0m                                                                                            \u001b[31m│\u001b[0m\n",
       "\u001b[31m│\u001b[0m   \u001b[2m45 \u001b[0m\u001b[94mfor\u001b[0m i, section \u001b[95min\u001b[0m \u001b[96menumerate\u001b[0m(sections):                                                      \u001b[31m│\u001b[0m\n",
       "\u001b[31m│\u001b[0m   \u001b[2m46 \u001b[0m\u001b[2m│   \u001b[0mmessage = {\u001b[33m\"\u001b[0m\u001b[33mtext\u001b[0m\u001b[33m\"\u001b[0m: section.encode().decode()}  \u001b[2m# Convert bytes to str\u001b[0m                   \u001b[31m│\u001b[0m\n",
       "\u001b[31m│\u001b[0m \u001b[31m❱ \u001b[0m47 \u001b[2m│   \u001b[0maudio = tts.invoke([message], input_type=\u001b[33m\"\u001b[0m\u001b[33mtext\u001b[0m\u001b[33m\"\u001b[0m, inference_params={\u001b[33m'\u001b[0m\u001b[33mvoice\u001b[0m\u001b[33m'\u001b[0m: \u001b[33m\"\u001b[0m\u001b[33monyx\u001b[0m\u001b[33m\"\u001b[0m,     \u001b[31m│\u001b[0m\n",
       "\u001b[31m│\u001b[0m   \u001b[2m48 \u001b[0m\u001b[2m│   \u001b[0maudio.stream_to_file(\u001b[33mf\u001b[0m\u001b[33m\"\u001b[0m\u001b[33msection_\u001b[0m\u001b[33m{\u001b[0mi+\u001b[94m1\u001b[0m\u001b[33m}\u001b[0m\u001b[33m.mp3\u001b[0m\u001b[33m\"\u001b[0m)  \u001b[2m# Save each section separately\u001b[0m              \u001b[31m│\u001b[0m\n",
       "\u001b[31m│\u001b[0m   \u001b[2m49 \u001b[0m\u001b[2m│   \u001b[0m                                                                                        \u001b[31m│\u001b[0m\n",
       "\u001b[31m│\u001b[0m   \u001b[2m50 \u001b[0m\u001b[2m│   \u001b[0m\u001b[2m# Pause for a specific duration before the next section\u001b[0m                                 \u001b[31m│\u001b[0m\n",
       "\u001b[31m│\u001b[0m                                                                                                  \u001b[31m│\u001b[0m\n",
       "\u001b[31m│\u001b[0m \u001b[33mc:\\Users\\zibaa\\OneDrive\\Desktop\\EmpoweredRecovery\\v\\Lib\\site-packages\\langchain_core\\language_mo\u001b[0m \u001b[31m│\u001b[0m\n",
       "\u001b[31m│\u001b[0m \u001b[33mdels\\llms.py\u001b[0m:\u001b[94m231\u001b[0m in \u001b[92minvoke\u001b[0m                                                                       \u001b[31m│\u001b[0m\n",
       "\u001b[31m│\u001b[0m                                                                                                  \u001b[31m│\u001b[0m\n",
       "\u001b[31m│\u001b[0m   \u001b[2m 228 \u001b[0m\u001b[2m│   │   \u001b[0mconfig = ensure_config(config)                                                    \u001b[31m│\u001b[0m\n",
       "\u001b[31m│\u001b[0m   \u001b[2m 229 \u001b[0m\u001b[2m│   │   \u001b[0m\u001b[94mreturn\u001b[0m (                                                                          \u001b[31m│\u001b[0m\n",
       "\u001b[31m│\u001b[0m   \u001b[2m 230 \u001b[0m\u001b[2m│   │   │   \u001b[0m\u001b[96mself\u001b[0m.generate_prompt(                                                         \u001b[31m│\u001b[0m\n",
       "\u001b[31m│\u001b[0m \u001b[31m❱ \u001b[0m 231 \u001b[2m│   │   │   │   \u001b[0m[\u001b[96mself\u001b[0m._convert_input(\u001b[96minput\u001b[0m)],                                             \u001b[31m│\u001b[0m\n",
       "\u001b[31m│\u001b[0m   \u001b[2m 232 \u001b[0m\u001b[2m│   │   │   │   \u001b[0mstop=stop,                                                                \u001b[31m│\u001b[0m\n",
       "\u001b[31m│\u001b[0m   \u001b[2m 233 \u001b[0m\u001b[2m│   │   │   │   \u001b[0mcallbacks=config.get(\u001b[33m\"\u001b[0m\u001b[33mcallbacks\u001b[0m\u001b[33m\"\u001b[0m),                                        \u001b[31m│\u001b[0m\n",
       "\u001b[31m│\u001b[0m   \u001b[2m 234 \u001b[0m\u001b[2m│   │   │   │   \u001b[0mtags=config.get(\u001b[33m\"\u001b[0m\u001b[33mtags\u001b[0m\u001b[33m\"\u001b[0m),                                                  \u001b[31m│\u001b[0m\n",
       "\u001b[31m│\u001b[0m                                                                                                  \u001b[31m│\u001b[0m\n",
       "\u001b[31m│\u001b[0m \u001b[33mc:\\Users\\zibaa\\OneDrive\\Desktop\\EmpoweredRecovery\\v\\Lib\\site-packages\\langchain_core\\language_mo\u001b[0m \u001b[31m│\u001b[0m\n",
       "\u001b[31m│\u001b[0m \u001b[33mdels\\llms.py\u001b[0m:\u001b[94m213\u001b[0m in \u001b[92m_convert_input\u001b[0m                                                               \u001b[31m│\u001b[0m\n",
       "\u001b[31m│\u001b[0m                                                                                                  \u001b[31m│\u001b[0m\n",
       "\u001b[31m│\u001b[0m   \u001b[2m 210 \u001b[0m\u001b[2m│   │   \u001b[0m\u001b[94melif\u001b[0m \u001b[96misinstance\u001b[0m(\u001b[96minput\u001b[0m, \u001b[96mstr\u001b[0m):                                                      \u001b[31m│\u001b[0m\n",
       "\u001b[31m│\u001b[0m   \u001b[2m 211 \u001b[0m\u001b[2m│   │   │   \u001b[0m\u001b[94mreturn\u001b[0m StringPromptValue(text=\u001b[96minput\u001b[0m)                                          \u001b[31m│\u001b[0m\n",
       "\u001b[31m│\u001b[0m   \u001b[2m 212 \u001b[0m\u001b[2m│   │   \u001b[0m\u001b[94melif\u001b[0m \u001b[96misinstance\u001b[0m(\u001b[96minput\u001b[0m, Sequence):                                                 \u001b[31m│\u001b[0m\n",
       "\u001b[31m│\u001b[0m \u001b[31m❱ \u001b[0m 213 \u001b[2m│   │   │   \u001b[0m\u001b[94mreturn\u001b[0m ChatPromptValue(messages=\u001b[96minput\u001b[0m)                                        \u001b[31m│\u001b[0m\n",
       "\u001b[31m│\u001b[0m   \u001b[2m 214 \u001b[0m\u001b[2m│   │   \u001b[0m\u001b[94melse\u001b[0m:                                                                             \u001b[31m│\u001b[0m\n",
       "\u001b[31m│\u001b[0m   \u001b[2m 215 \u001b[0m\u001b[2m│   │   │   \u001b[0m\u001b[94mraise\u001b[0m \u001b[96mValueError\u001b[0m(                                                             \u001b[31m│\u001b[0m\n",
       "\u001b[31m│\u001b[0m   \u001b[2m 216 \u001b[0m\u001b[2m│   │   │   │   \u001b[0m\u001b[33mf\u001b[0m\u001b[33m\"\u001b[0m\u001b[33mInvalid input type \u001b[0m\u001b[33m{\u001b[0m\u001b[96mtype\u001b[0m(\u001b[96minput\u001b[0m)\u001b[33m}\u001b[0m\u001b[33m. \u001b[0m\u001b[33m\"\u001b[0m                                     \u001b[31m│\u001b[0m\n",
       "\u001b[31m│\u001b[0m                                                                                                  \u001b[31m│\u001b[0m\n",
       "\u001b[31m│\u001b[0m \u001b[33mc:\\Users\\zibaa\\OneDrive\\Desktop\\EmpoweredRecovery\\v\\Lib\\site-packages\\langchain_core\\load\\serial\u001b[0m \u001b[31m│\u001b[0m\n",
       "\u001b[31m│\u001b[0m \u001b[33mizable.py\u001b[0m:\u001b[94m107\u001b[0m in \u001b[92m__init__\u001b[0m                                                                        \u001b[31m│\u001b[0m\n",
       "\u001b[31m│\u001b[0m                                                                                                  \u001b[31m│\u001b[0m\n",
       "\u001b[31m│\u001b[0m   \u001b[2m104 \u001b[0m\u001b[2m│   \u001b[0m_lc_kwargs = PrivateAttr(default_factory=\u001b[96mdict\u001b[0m)                                         \u001b[31m│\u001b[0m\n",
       "\u001b[31m│\u001b[0m   \u001b[2m105 \u001b[0m\u001b[2m│   \u001b[0m                                                                                       \u001b[31m│\u001b[0m\n",
       "\u001b[31m│\u001b[0m   \u001b[2m106 \u001b[0m\u001b[2m│   \u001b[0m\u001b[94mdef\u001b[0m \u001b[92m__init__\u001b[0m(\u001b[96mself\u001b[0m, **kwargs: Any) -> \u001b[94mNone\u001b[0m:                                             \u001b[31m│\u001b[0m\n",
       "\u001b[31m│\u001b[0m \u001b[31m❱ \u001b[0m107 \u001b[2m│   │   \u001b[0m\u001b[96msuper\u001b[0m().\u001b[92m__init__\u001b[0m(**kwargs)                                                         \u001b[31m│\u001b[0m\n",
       "\u001b[31m│\u001b[0m   \u001b[2m108 \u001b[0m\u001b[2m│   │   \u001b[0m\u001b[96mself\u001b[0m._lc_kwargs = kwargs                                                           \u001b[31m│\u001b[0m\n",
       "\u001b[31m│\u001b[0m   \u001b[2m109 \u001b[0m\u001b[2m│   \u001b[0m                                                                                       \u001b[31m│\u001b[0m\n",
       "\u001b[31m│\u001b[0m   \u001b[2m110 \u001b[0m\u001b[2m│   \u001b[0m\u001b[94mdef\u001b[0m \u001b[92mto_json\u001b[0m(\u001b[96mself\u001b[0m) -> Union[SerializedConstructor, SerializedNotImplemented]:           \u001b[31m│\u001b[0m\n",
       "\u001b[31m│\u001b[0m                                                                                                  \u001b[31m│\u001b[0m\n",
       "\u001b[31m│\u001b[0m \u001b[33mc:\\Users\\zibaa\\OneDrive\\Desktop\\EmpoweredRecovery\\v\\Lib\\site-packages\\pydantic\\v1\\main.py\u001b[0m:\u001b[94m341\u001b[0m in \u001b[31m│\u001b[0m\n",
       "\u001b[31m│\u001b[0m \u001b[92m__init__\u001b[0m                                                                                         \u001b[31m│\u001b[0m\n",
       "\u001b[31m│\u001b[0m                                                                                                  \u001b[31m│\u001b[0m\n",
       "\u001b[31m│\u001b[0m   \u001b[2m 338 \u001b[0m\u001b[2m│   │   \u001b[0m\u001b[2m# Uses something other than `self` the first arg to allow \"self\" as a settable a\u001b[0m  \u001b[31m│\u001b[0m\n",
       "\u001b[31m│\u001b[0m   \u001b[2m 339 \u001b[0m\u001b[2m│   │   \u001b[0mvalues, fields_set, validation_error = validate_model(__pydantic_self__.\u001b[91m__class_\u001b[0m  \u001b[31m│\u001b[0m\n",
       "\u001b[31m│\u001b[0m   \u001b[2m 340 \u001b[0m\u001b[2m│   │   \u001b[0m\u001b[94mif\u001b[0m validation_error:                                                              \u001b[31m│\u001b[0m\n",
       "\u001b[31m│\u001b[0m \u001b[31m❱ \u001b[0m 341 \u001b[2m│   │   │   \u001b[0m\u001b[94mraise\u001b[0m validation_error                                                        \u001b[31m│\u001b[0m\n",
       "\u001b[31m│\u001b[0m   \u001b[2m 342 \u001b[0m\u001b[2m│   │   \u001b[0m\u001b[94mtry\u001b[0m:                                                                              \u001b[31m│\u001b[0m\n",
       "\u001b[31m│\u001b[0m   \u001b[2m 343 \u001b[0m\u001b[2m│   │   │   \u001b[0mobject_setattr(__pydantic_self__, \u001b[33m'\u001b[0m\u001b[33m__dict__\u001b[0m\u001b[33m'\u001b[0m, values)                         \u001b[31m│\u001b[0m\n",
       "\u001b[31m│\u001b[0m   \u001b[2m 344 \u001b[0m\u001b[2m│   │   \u001b[0m\u001b[94mexcept\u001b[0m \u001b[96mTypeError\u001b[0m \u001b[94mas\u001b[0m e:                                                            \u001b[31m│\u001b[0m\n",
       "\u001b[31m╰──────────────────────────────────────────────────────────────────────────────────────────────────╯\u001b[0m\n",
       "\u001b[1;91mValidationError: \u001b[0m\u001b[1;36m2\u001b[0m validation errors for ChatPromptValue\n",
       "messages -> \u001b[1;36m0\u001b[0m -> content\n",
       "  field required \u001b[1m(\u001b[0m\u001b[33mtype\u001b[0m=\u001b[35mvalue_error\u001b[0m.missing\u001b[1m)\u001b[0m\n",
       "messages -> \u001b[1;36m0\u001b[0m -> type\n",
       "  field required \u001b[1m(\u001b[0m\u001b[33mtype\u001b[0m=\u001b[35mvalue_error\u001b[0m.missing\u001b[1m)\u001b[0m\n"
      ]
     },
     "metadata": {},
     "output_type": "display_data"
    }
   ],
   "source": [
    "def get_pause_duration(section_index):\n",
    "    if meditation_length == \"5 minutes\":\n",
    "        durations = {\n",
    "            0: 2,  # 5 seconds before section 1\n",
    "            1: 5,\n",
    "            2: 10,\n",
    "            3: 15,\n",
    "            4: 20,\n",
    "            5: 20,\n",
    "            6: 20,\n",
    "            7: 10,\n",
    "            8: 10,\n",
    "            9: 5\n",
    "        }\n",
    "    elif meditation_length == \"10 minutes\":\n",
    "        durations = {\n",
    "            0: 2,  # 5 seconds before section 1\n",
    "            1: 5,\n",
    "            2: 15,\n",
    "            3: 20,\n",
    "            4: 25,\n",
    "            5: 30,\n",
    "            6: 30,\n",
    "            7: 30,\n",
    "            8: 30,\n",
    "            9: 15\n",
    "        }\n",
    "    else:\n",
    "        durations = {\n",
    "            0: 2,  # 5 seconds before section 1\n",
    "            1: 5,\n",
    "            2: 20,\n",
    "            3: 25,\n",
    "            4: 30, \n",
    "            5: 35,\n",
    "            6: 35,\n",
    "            7: 35,\n",
    "            8: 35,\n",
    "            9: 30\n",
    "        }\n",
    "    return durations.get(section_index, 3)\n",
    "    "
   ]
  },
  {
   "cell_type": "code",
   "execution_count": 101,
   "metadata": {},
   "outputs": [],
   "source": [
    "def inference(model_url, inputs, params={}):\n",
    "    prediction = Model(model_url).predict(inputs=[inputs], inference_params=params)\n",
    "    return prediction.outputs[0].data\n",
    "\n",
    "def text_to_speech(text: str):\n",
    "    model_url = 'https://clarifai.com/openai/tts/models/openai-tts-1'\n",
    "    inputs = Inputs.get_text_input(input_id=\"\", raw_text=text)\n",
    "    data = inference(model_url, inputs, {'voice': 'onyx', 'speed': 1})\n",
    "\n",
    "    audio_bytes = io.BytesIO(data.audio.base64)\n",
    "\n",
    "    # Save the audio to a file\n",
    "    with open(\"complete_meditation.mp3\", \"wb\") as f:\n",
    "        f.write(audio_bytes.getvalue())\n",
    "\n",
    "    return \"complete_meditation.mp3\""
   ]
  },
  {
   "cell_type": "code",
   "execution_count": 102,
   "metadata": {},
   "outputs": [],
   "source": [
    "# Call the text_to_speech function\n",
    "generated_audio = text_to_speech(meditation_script3['result'])"
   ]
  },
  {
   "cell_type": "code",
   "execution_count": 110,
   "metadata": {},
   "outputs": [],
   "source": [
    "import wave\n",
    "\n",
    "def get_pause_duration(section_index, meditation_length):\n",
    "    durations = {\n",
    "        \"5 minutes\": [2, 5, 10, 15, 20, 20, 20, 10, 10, 5],\n",
    "        \"10 minutes\": [2, 5, 15, 20, 25, 30, 30, 30, 30, 15],\n",
    "        \"15 minutes\": [2, 5, 20, 25, 30, 35, 35, 35, 35, 30],\n",
    "    }\n",
    "    return durations.get(meditation_length, [3])[section_index % len(durations.get(meditation_length, [3]))]\n",
    "\n",
    "def inference(model_url, inputs, params={}):\n",
    "    prediction = Model(model_url).predict(inputs=[inputs], inference_params=params)\n",
    "    return prediction.outputs[0].data\n",
    "\n",
    "def generate_silence(duration, sampling_rate=44100, sample_width=2):\n",
    "    num_frames = int(duration * sampling_rate)\n",
    "    silence_data = b'\\0' * (num_frames * sample_width)\n",
    "    return silence_data\n",
    "\n",
    "def text_to_speech(text: str, meditation_length):\n",
    "    model_url = 'https://clarifai.com/openai/tts/models/openai-tts-1'\n",
    "    \n",
    "    # Split the text into paragraphs\n",
    "    paragraphs = text.split(\"\\n\\n\")\n",
    "    \n",
    "    # Initialize an empty bytearray to store the complete audio script\n",
    "    complete_script = bytearray()\n",
    "\n",
    "    total_duration = 0  # Track the total duration of the generated audio\n",
    "\n",
    "    for i, paragraph in enumerate(paragraphs):\n",
    "        # Skip empty paragraphs\n",
    "        if paragraph.strip():\n",
    "            # Generate audio for each paragraph\n",
    "            inputs = Inputs.get_text_input(input_id=\"\", raw_text=paragraph)\n",
    "            data = inference(model_url, inputs, {'voice': 'onyx', 'speed': 1})\n",
    "\n",
    "            audio_bytes = io.BytesIO(data.audio.base64)\n",
    "            audio_duration = len(audio_bytes.getvalue()) / (44100 * 2)  # Duration in seconds (44100 samples per second, 2 bytes per sample)\n",
    "\n",
    "            # Add the audio content to the complete script\n",
    "            complete_script.extend(audio_bytes.getvalue())\n",
    "            \n",
    "            # Add pause duration between sections\n",
    "            pause_duration = get_pause_duration(i, meditation_length)\n",
    "            silence_data = generate_silence(pause_duration, sampling_rate=44100, sample_width=2)\n",
    "            complete_script.extend(silence_data)\n",
    "\n",
    "            # Update total duration\n",
    "            total_duration += audio_duration + pause_duration\n",
    "\n",
    "    # Save the complete audio script to a file\n",
    "    with wave.open(\"complete_meditation.mp3\", \"wb\") as wave_file:\n",
    "        wave_file.setnchannels(1)  # Mono audio\n",
    "        wave_file.setsampwidth(2)  # 2 bytes per sample\n",
    "        wave_file.setframerate(44100)  # 44100 samples per second\n",
    "        wave_file.writeframes(complete_script)\n",
    "\n",
    "    return \"complete_meditation.mp3\""
   ]
  },
  {
   "cell_type": "code",
   "execution_count": 111,
   "metadata": {},
   "outputs": [],
   "source": [
    "# Call the text_to_speech function\n",
    "generated_audio = text_to_speech(meditation_script3['result'], meditation_length=\"15 minutes\")"
   ]
  },
  {
   "cell_type": "code",
   "execution_count": 104,
   "metadata": {},
   "outputs": [],
   "source": [
    "def generate_silence_sample(duration, sampling_rate=44100):\n",
    "    num_frames = int(duration * sampling_rate)\n",
    "    silence_data = b'\\0' * (num_frames * 2)  # 2 bytes per frame for 16-bit audio\n",
    "    return silence_data\n",
    "\n",
    "# Create a 2-second silence sample\n",
    "silence_duration = 2  # 2 seconds\n",
    "silence_sample = generate_silence_sample(silence_duration)\n",
    "\n",
    "# Save the silence sample as a WAV file\n",
    "with wave.open(\"silence_sample.wav\", \"wb\") as wave_file:\n",
    "    wave_file.setnchannels(1)  # Mono audio\n",
    "    wave_file.setsampwidth(2)  # 2 bytes per sample\n",
    "    wave_file.setframerate(44100)  # 44100 samples per second\n",
    "    wave_file.writeframes(silence_sample)"
   ]
  },
  {
   "cell_type": "code",
   "execution_count": 19,
   "metadata": {},
   "outputs": [
    {
     "name": "stdout",
     "output_type": "stream",
     "text": [
      "Welcome, Nyx. Let's begin a 10-minute relaxing meditation session to aid in your recovery from addiction. Find a quiet, comfortable place where you can sit or lie down without interruptions. Close your eyes and take a deep breath in, filling your lungs completely. Now, slowly release the breath, feeling a wave of relaxation spread throughout your body. Let's do this two more times, inhaling deeply and exhaling slowly.\n",
      "\n",
      "As you continue to breathe naturally, bring your attention to the top of your head. Imagine a sense of warmth and relaxation beginning to spread from the top of your scalp, flowing down into your forehead and eyebrows. Allow this sensation to release any tension as it moves into your eyes, which feel calm and relaxed.\n",
      "\n",
      "Now, let this feeling of relaxation flow down into your cheeks and jaw. Unclench your teeth and let go of any tension. Notice how your face feels completely at ease. With each breath you take, this relaxing energy continues to travel down your neck and shoulders, releasing any tightness as it goes.\n",
      "\n",
      "Feel the warmth and relaxation moving down your arms, all the way to your fingertips. Allow your arms to feel heavy and relaxed at your sides. Take a moment to appreciate the sensation of letting go.\n",
      "\n",
      "Bring your awareness to your chest and heart area now. Visualize a healing light in the center of your chest, a light that represents compassion and peace. With each breath, this light glows brighter and warmer, filling you with a sense of love for yourself and your journey to recovery.\n",
      "\n",
      "As you inhale, imagine drawing strength from this light, and as you exhale, release any cravings or negative thoughts. They are simply clouds passing in the sky, not affecting the light within you.\n",
      "\n",
      "Allow the sensation of relaxation to move down into your stomach. Let it be soft and relaxed. Notice the rise and fall of your abdomen with each breath, a gentle wave that calms your mind and body.\n",
      "\n",
      "Now, feel the relaxation spreading to your lower back and hips, easing any discomfort there. It continues down your legs, relaxing your thighs, knees, calves, and finally reaching your feet. Your entire body is now enveloped in a state of deep relaxation and peace.\n",
      "\n",
      "In this tranquil state, affirm to yourself that you are not your addiction. You are a strong, resilient individual, capable of overcoming challenges. With each breath, you are nurturing your willpower and determination to stay on the path of recovery.\n",
      "\n",
      "As we prepare to conclude this meditation, take a few more deep breaths and start to bring your awareness back to the room. Gently wiggle your fingers and toes, slowly awakening your body. When you feel ready, open your eyes, returning to the present moment with a renewed sense of calm and focus.\n",
      "\n",
      "Remember, Nyx, you can return to this state of relaxation and inner strength whenever you need to. Take this sense of peace with you throughout the rest of your day.\n"
     ]
    }
   ],
   "source": [
    "# user question\n",
    "user_name = \"Nyx\"\n",
    "query = \"Give me a relaxing meditation script for addiction.\"\n",
    "meditation_length = \"10 minutes\"\n",
    "# retrieve relevant chunks\n",
    "docs = db.similarity_search(query)\n",
    "retrieved_chunks = [doc.page_content for doc in docs]\n",
    "\n",
    "# format the prompt\n",
    "chunks_formatted = \"\\n\\n\".join(retrieved_chunks)\n",
    "prompt_formatted = prompt.format(user_name=user_name, chunks_formatted=chunks_formatted, meditation_length=meditation_length, query=query)\n",
    "answer = llm(prompt_formatted)\n",
    "print(answer)"
   ]
  },
  {
   "cell_type": "code",
   "execution_count": 21,
   "metadata": {},
   "outputs": [
    {
     "name": "stdout",
     "output_type": "stream",
     "text": [
      "Welcome, Nyx. Let's embark on a 15-minute meditation journey designed to bring relaxation and support your recovery from addiction. Please find a comfortable seated position in a quiet space where you won't be disturbed. Close your eyes and allow your hands to rest gently on your knees or in your lap.\n",
      "\n",
      "Take a deep breath in through your nose, slowly filling your lungs with air. Feel your chest and belly expand. Hold the breath for a moment, and then exhale slowly through your mouth, letting all the tension and stress leave your body. Repeat this deep breathing three times, each time feeling more relaxed.\n",
      "\n",
      "Now, let your breath return to a natural rhythm. Notice the rise and fall of your chest. Observe the sensation of air flowing in and out of your nostrils. If your mind begins to wander, gently guide your focus back to your breath. This is your anchor, keeping you present and centered.\n",
      "\n",
      "With each breath, imagine a wave of calm washing over you, from the tips of your toes to the top of your head. Visualize this wave as a healing light, removing any cravings or thoughts of addiction. It leaves in its wake a sense of peace and strength.\n",
      "\n",
      "As you continue to breathe deeply and evenly, reflect on the following affirmations. With each affirmation, breathe in positivity and exhale any doubts or fears:\n",
      "\n",
      "- \"I am stronger than my addiction.\"\n",
      "- \"Each breath fills me with tranquility and courage.\"\n",
      "- \"I release the past and embrace the present moment.\"\n",
      "\n",
      "Allow these affirmations to resonate within you, repeating them silently to yourself with each in-breath and out-breath.\n",
      "\n",
      "Now, shift your focus to your body. Starting at your feet, consciously relax each muscle group. Move up from your toes to your ankles, calves, knees, and thighs. Release any tension you're holding. Let this feeling of relaxation rise to your hips, abdomen, and lower back. Continue to breathe deeply as you relax your chest, shoulders, and neck. Relax your facial muscles, your jaw, and the space between your eyebrows.\n",
      "\n",
      "Visualize yourself in a place that brings you comfort and serenity. It could be a beach, a forest, a mountain, or any place where you feel safe and at peace. Imagine yourself there, surrounded by the beauty of nature and the sensation of peace that envelops you. Feel the support of the earth beneath you, grounding and protecting you.\n",
      "\n",
      "Stay in this peaceful place for a few moments, breathing in the serenity and exhaling any remnants of tension. With each breath, you are more relaxed and more in control.\n",
      "\n",
      "As we approach the end of this meditation, start to bring your awareness back to the room. Wiggle your fingers and toes, gently bringing movement back to your body. When you feel ready, open your eyes slowly, taking in your surroundings.\n",
      "\n",
      "Remember that you are on a powerful journey of recovery, and each moment of mindfulness brings you closer to freedom from addiction. Carry the calm and strength from this meditation with you throughout the day.\n",
      "\n",
      "Thank you for sharing this time with me, Nyx. May you be well, may you be peaceful, and may you be free from suffering.\n"
     ]
    }
   ],
   "source": [
    "# user question\n",
    "user_name = \"Nyx\"\n",
    "query = \"Give me a relaxing meditation script for addiction.\"\n",
    "meditation_length = \"15 minutes\"\n",
    "# retrieve relevant chunks\n",
    "docs = db.similarity_search(query)\n",
    "retrieved_chunks = [doc.page_content for doc in docs]\n",
    "\n",
    "# format the prompt\n",
    "chunks_formatted = \"\\n\\n\".join(retrieved_chunks)\n",
    "prompt_formatted = prompt.format(user_name=user_name, chunks_formatted=chunks_formatted, meditation_length=meditation_length, query=query)\n",
    "answer = llm(prompt_formatted)\n",
    "print(answer)"
   ]
  }
 ],
 "metadata": {
  "kernelspec": {
   "display_name": "Python 3",
   "language": "python",
   "name": "python3"
  },
  "language_info": {
   "codemirror_mode": {
    "name": "ipython",
    "version": 3
   },
   "file_extension": ".py",
   "mimetype": "text/x-python",
   "name": "python",
   "nbconvert_exporter": "python",
   "pygments_lexer": "ipython3",
   "version": "3.11.3"
  }
 },
 "nbformat": 4,
 "nbformat_minor": 2
}
